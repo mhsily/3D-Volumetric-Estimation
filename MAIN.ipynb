{
 "cells": [
  {
   "cell_type": "code",
   "execution_count": null,
   "id": "e0d1b35c",
   "metadata": {},
   "outputs": [],
   "source": [
    "import numpy as np\n",
    "import open3d as o3d\n",
    "import cv2\n",
    "import depthai as dai\n",
    "import os\n",
    "import time\n",
    "from pyntcloud import PyntCloud"
   ]
  },
  {
   "cell_type": "code",
   "execution_count": null,
   "id": "e42b8394",
   "metadata": {},
   "outputs": [],
   "source": [
    "_currentPath = os.getcwd()\n",
    "_Path = 'spatial-points/'\n",
    "_minZ = 580   #in mm\n",
    "_maxZ = 650   #in mm\n",
    "_minX = -30   \t#in mm\t\t\t\n",
    "_maxX = -_minX\t#in mm\t\t\t\n",
    "_minY = -40   #in mm\t\t\t\n",
    "_maxY =  600   #in mm\t\t\t\n",
    "_objDist = 611"
   ]
  },
  {
   "cell_type": "code",
   "execution_count": null,
   "id": "6802cbe8",
   "metadata": {},
   "outputs": [],
   "source": [
    "def _process(_point1, _point2, _point3, _point4):\n",
    "    _coordinates_array = []\n",
    "    for i in range(2500):\n",
    "        _p1 = [_point1[i][0], _point1[i][1], _point1[i][2]]\n",
    "        _p2 = [_objDist-_point2[i][2], _point2[i][1], _objDist+_point2[i][0]]\n",
    "        _p3 = [-_point3[i][0],_point3[i][1], (_objDist+_objDist-_point3[i][2])]\n",
    "        _p4 = [_point4[i][2]-_objDist, _point4[i][1], (_objDist-_point4[i][0])]\n",
    "        if (_minX < _p1[0] < _maxX) and (_minY < _p1[1] < _maxY) and (_minZ < _p1[2] < _maxZ):\n",
    "            _coordinates_array.append(_p1)   \n",
    "        if (_minX < _p2[0] < _maxX) and (_minY < _p2[1] < _maxY) and (_minZ < _p2[2] < _maxZ):\n",
    "            _coordinates_array.append(_p2)\n",
    "        if (_minX < _p3[0] < _maxX) and (_minY < _p3[1] < _maxY) and (_minZ < _p3[2] < _maxZ):\n",
    "            _coordinates_array.append(_p3)\n",
    "        if (_minX < _p4[0] < _maxX) and (_minY < _p4[1] < _maxY) and (_minZ < _p4[2] < _maxZ):\n",
    "            _coordinates_array.append(_p4)\n",
    "    return np.array(_coordinates_array)"
   ]
  },
  {
   "cell_type": "code",
   "execution_count": null,
   "id": "27a21927",
   "metadata": {},
   "outputs": [],
   "source": [
    "def _invert_image(_array):\n",
    "    for i in range(_array.shape[0]):\n",
    "        _array[i][0] = -_array[i][0]\n",
    "        _array[i][1] = -_array[i][1]\n",
    "    return np.array(_array)"
   ]
  },
  {
   "cell_type": "code",
   "execution_count": null,
   "id": "7fb9e484",
   "metadata": {},
   "outputs": [],
   "source": [
    "def _visualize_points(_coordinates_array):\n",
    "    _coordinates_array = np.array(_coordinates_array)\n",
    "    _xMax, _xMin, _yMax, _yMin, _zMax = np.zeros(5)\n",
    "    _zMin = 99999\n",
    "    for i in range(_coordinates_array.shape[0]):\n",
    "        _xMax = max([_coordinates_array[i][0], _xMax])\n",
    "        _xMin = min([_coordinates_array[i][0], _xMin])\n",
    "        _yMax = max([_coordinates_array[i][1], _yMax])\n",
    "        _yMin = min([_coordinates_array[i][1], _yMin])\n",
    "        _zMax = max([_coordinates_array[i][2], _zMax]) \n",
    "        _zMin = min([_coordinates_array[i][2], _zMin])\n",
    "    _point_cloud = o3d.geometry.PointCloud()\n",
    "    _point_cloud.points = o3d.utility.Vector3dVector(_coordinates_array)\n",
    "    o3d.io.write_point_cloud(_currentPath+\"/point-cloud/complete.ply\", _point_cloud)\n",
    "    diamond = PyntCloud.from_file(_currentPath+\"/point-cloud/complete.ply\")\n",
    "    convex_hull_id = diamond.add_structure(\"convex_hull\")\n",
    "    convex_hull = diamond.structures[convex_hull_id]\n",
    "    volume = convex_hull.volume\n",
    "    print(\"\\n Actual Dimensions of BOX (in CM):\\n\", 7.5,25,7.5)\n",
    "    print(\"\\n Estimated Dimensions of BOX (in CM): \\n\", abs(_xMax-_xMin)/10, abs(_yMax-_yMin)/10, abs(_zMax-_zMin)/10)\n",
    "    print(\"\\n Actual Volume of BOX (in CM Cube):\\n\", 3.14*((7.5/2)**2)*25)\n",
    "    print(\"\\n Estimated Volume of BOX (in CM Cube):\\n\", volume/1000)\n",
    "    print(\"\\n Accurary = \", (volume/1000)/(3.14*((7.5/2)**2)*25)*100, \"\\n\")\n",
    "    _pcd_load = o3d.io.read_point_cloud(_currentPath+\"/point-cloud/complete.ply\")\n",
    "    hull, _ = _pcd_load.compute_convex_hull()\n",
    "    hull_ls = o3d.geometry.LineSet.create_from_triangle_mesh(hull)\n",
    "    hull_ls.paint_uniform_color((1, 0, 0))\n",
    "    o3d.visualization.draw_geometries([hull_ls, _pcd_load])"
   ]
  },
  {
   "cell_type": "code",
   "execution_count": null,
   "id": "b4ce86c0",
   "metadata": {},
   "outputs": [],
   "source": [
    "def preview_depth_images():\n",
    "    depth_0 = cv2.imread(_currentPath+'/depth-images/1.jpg')\n",
    "    depth_1 = cv2.imread(_currentPath+'/depth-images/2.jpg')\n",
    "    depth_2 = cv2.imread(_currentPath+'/depth-images/3.jpg')\n",
    "    depth_3 = cv2.imread(_currentPath+'/depth-images/4.jpg')\n",
    "    depth_images = np.concatenate((depth_0, depth_1, depth_2, depth_3), axis=1)\n",
    "    depth_images = cv2.rotate(depth_images, cv2.ROTATE_180)\n",
    "    depth_images = cv2.resize(depth_images, (1200,200))\n",
    "    while True:\n",
    "        cv2.imshow('Images', depth_images)\n",
    "        if cv2.waitKey(1) == ord('q'):\n",
    "            break"
   ]
  },
  {
   "cell_type": "code",
   "execution_count": null,
   "id": "534239c8",
   "metadata": {},
   "outputs": [],
   "source": [
    "def main():\n",
    "    #preview_depth_images()\n",
    "    os.chdir(_Path)\n",
    "    _point1 = np.load('1.npy')\n",
    "    _point2 = np.load('2.npy')\n",
    "    _point3 = np.load('3.npy')\n",
    "    _point4 = np.load('4.npy')\n",
    "    print(\"\\n 3D Coordinates Processing\")\n",
    "    _coordinates_array = _process(_invert_image(_point1), _invert_image(_point2), _invert_image(_point3), _invert_image(_point4))\n",
    "    _visualize_points(_coordinates_array)\n",
    "\n",
    "\n",
    "if __name__ == \"__main__\" :\n",
    "    main()\n"
   ]
  }
 ],
 "metadata": {
  "kernelspec": {
   "display_name": "Python 3",
   "language": "python",
   "name": "python3"
  },
  "language_info": {
   "codemirror_mode": {
    "name": "ipython",
    "version": 3
   },
   "file_extension": ".py",
   "mimetype": "text/x-python",
   "name": "python",
   "nbconvert_exporter": "python",
   "pygments_lexer": "ipython3",
   "version": "3.8.8"
  }
 },
 "nbformat": 4,
 "nbformat_minor": 5
}
